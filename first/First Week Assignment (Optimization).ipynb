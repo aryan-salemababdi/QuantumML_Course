{
 "cells": [
  {
   "cell_type": "markdown",
   "id": "e1e69d55",
   "metadata": {},
   "source": [
    "# Optimization\n",
    " \n",
    " \n",
    " \n",
    " \n",
    " Goal : In this assignment, you should fill the missing parts in order to optimize the circuit to reach 0.4 as the expectation value (PauliZ) of first qubit. \n"
   ]
  },
  {
   "cell_type": "code",
   "execution_count": 46,
   "id": "9a7ccdcd",
   "metadata": {},
   "outputs": [],
   "source": [
    "import pennylane as qml\n",
    "from pennylane import numpy as np"
   ]
  },
  {
   "cell_type": "code",
   "execution_count": 47,
   "id": "127c3823",
   "metadata": {},
   "outputs": [],
   "source": [
    "dev = qml.device(\"default.qubit\", wires=1)\n",
    "\n",
    "@qml.qnode(dev)\n",
    "def circuit(params):\n",
    "    qml.RY(params[0], wires=0)\n",
    "    qml.RZ(params[1],wires=0)\n",
    "    return  qml.expval(qml.PauliZ(0))"
   ]
  },
  {
   "cell_type": "markdown",
   "id": "40a649b9",
   "metadata": {},
   "source": [
    "you should define the cost function in order to optimize circuit(params) in code cell below"
   ]
  },
  {
   "cell_type": "code",
   "execution_count": 48,
   "id": "fd500866",
   "metadata": {},
   "outputs": [],
   "source": [
    "def cost(params):\n",
    "    return  np.abs(circuit(params)-0.4)**2"
   ]
  },
  {
   "cell_type": "markdown",
   "id": "23617c4c",
   "metadata": {},
   "source": [
    "In code cell below,\n",
    "\n",
    "\n",
    "\n",
    "\n",
    "\n",
    "\n",
    "\n",
    "First you should set up your optimizer and learning rate\n",
    "\n",
    "\n",
    "\n",
    "\n",
    "\n",
    "\n",
    "Second you have to initialize the learning parameter "
   ]
  },
  {
   "cell_type": "code",
   "execution_count": 49,
   "id": "a89ec7d4",
   "metadata": {},
   "outputs": [],
   "source": [
    "# use gradient descent with learning rate 0.4 \n",
    "\n",
    "opt=qml.GradientDescentOptimizer(stepsize=0.4)\n",
    "\n",
    "\n",
    "steps = 100\n",
    "\n",
    "# use np.random.rand to initialize params\n",
    "\n",
    "params=np.random.rand(2)\n",
    "\n",
    "for i in range(steps):\n",
    "    params = opt.step(cost, params)"
   ]
  },
  {
   "cell_type": "markdown",
   "id": "935a58e6",
   "metadata": {},
   "source": [
    "if your codes are correct, you should receive (tensor(0.4, requires_grad=True))"
   ]
  },
  {
   "cell_type": "code",
   "execution_count": 50,
   "id": "165dc8cd",
   "metadata": {},
   "outputs": [
    {
     "data": {
      "text/plain": [
       "tensor(0.4, requires_grad=True)"
      ]
     },
     "execution_count": 50,
     "metadata": {},
     "output_type": "execute_result"
    }
   ],
   "source": [
    "circuit(params)"
   ]
  }
 ],
 "metadata": {
  "kernelspec": {
   "display_name": "Python 3",
   "language": "python",
   "name": "python3"
  },
  "language_info": {
   "codemirror_mode": {
    "name": "ipython",
    "version": 3
   },
   "file_extension": ".py",
   "mimetype": "text/x-python",
   "name": "python",
   "nbconvert_exporter": "python",
   "pygments_lexer": "ipython3",
   "version": "3.10.0"
  }
 },
 "nbformat": 4,
 "nbformat_minor": 5
}
