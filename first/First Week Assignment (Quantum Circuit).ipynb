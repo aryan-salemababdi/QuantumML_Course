{
 "cells": [
  {
   "cell_type": "markdown",
   "id": "bddef487",
   "metadata": {},
   "source": [
    "# Aryan Salemabadi\n",
    "\n",
    "# Quantum Circuits\n",
    "\n",
    "For your first graded code you should enter a code to create\n",
    "$$\\frac{1}{{\\sqrt{2}}} (|000\\rangle - |101\\rangle)$$\n",
    "\n",
    "For Your second graded code, you should modify return value of circuit() function in order to evaluate expectation value of the first two qubits using PauliZ operator\n"
   ]
  },
  {
   "cell_type": "code",
   "execution_count": 155,
   "id": "346361b0",
   "metadata": {},
   "outputs": [],
   "source": [
    "import pennylane as qml\n",
    "from pennylane import numpy as np\n",
    "import matplotlib.pyplot as plt\n"
   ]
  },
  {
   "cell_type": "code",
   "execution_count": 156,
   "id": "b02a92f9",
   "metadata": {},
   "outputs": [
    {
     "data": {
      "text/plain": [
       "tensor([ 0.70710678+0.j,  0.        +0.j,  0.        +0.j,\n",
       "         0.        +0.j,  0.        +0.j, -0.70710678+0.j,\n",
       "         0.        +0.j,  0.        +0.j], requires_grad=True)"
      ]
     },
     "execution_count": 156,
     "metadata": {},
     "output_type": "execute_result"
    }
   ],
   "source": [
    "dev = qml.device(\"default.qubit\", wires=3)\n",
    "\n",
    "\n",
    "@qml.qnode(dev)\n",
    "def circuit():\n",
    "    qml.Hadamard(wires=0)\n",
    "    qml.CNOT(wires=[0,2])\n",
    "    qml.CZ(wires=[0,2])\n",
    "    return qml.state()\n",
    "\n",
    "\n",
    "circuit()\n"
   ]
  },
  {
   "cell_type": "code",
   "execution_count": 157,
   "id": "5cd9a0c8",
   "metadata": {},
   "outputs": [
    {
     "data": {
      "image/png": "[encoded data removed]",
      "text/plain": [
       "<Figure size 432x216 with 1 Axes>"
      ]
     },
     "metadata": {},
     "output_type": "display_data"
    }
   ],
   "source": [
    "qml.drawer.use_style(\"black_white\")\n",
    "qml.draw_mpl(circuit)()\n",
    "plt.show()\n"
   ]
  },
  {
   "cell_type": "markdown",
   "id": "ea062228",
   "metadata": {},
   "source": [
    "# Parameterized Gates\n",
    "\n",
    "In this phase of your assignment, you should apply single qubit (Z,Y) rotations to one qubit in order and evaluate the returned values of the defined quantum node\n",
    "\n",
    "HINT:\n",
    "\n",
    "1. Please consider the order (Z,Y)\n",
    "2. Try to parameterize your Gates using {params[i] for ith parameter}\n",
    "\n",
    "For your fourth and last graded code in this assignment, you should modify the return value pf parameterized_circuit(params) in order to evaluate the tensor product of observables $Z\\otimes Y \\otimes X$\n",
    "\n",
    "HINT:\n",
    "\n",
    "1. use this pattern as we talked in the class { qml.expval(PauliZ(...) @ ...) }\n"
   ]
  },
  {
   "cell_type": "code",
   "execution_count": 158,
   "id": "1c31e0ed",
   "metadata": {},
   "outputs": [],
   "source": [
    "dev2 = qml.device(\"default.qubit\", wires=1)\n",
    "\n",
    "\n",
    "@qml.qnode(dev2)\n",
    "def parameterized_circuit(params):\n",
    "    qml.RZ(params[0], wires=0)\n",
    "    qml.RY(params[1], wires=0)\n",
    "    return qml.expval(qml.PauliZ(0)@qml.PauliY(0)@qml.PauliX(0))\n"
   ]
  },
  {
   "cell_type": "code",
   "execution_count": 159,
   "id": "d85bb5e5",
   "metadata": {},
   "outputs": [
    {
     "name": "stdout",
     "output_type": "stream",
     "text": [
      "0.9800665778412411\n"
     ]
    },
    {
     "name": "stderr",
     "output_type": "stream",
     "text": [
      "C:\\Users\\HP\\AppData\\Roaming\\Python\\Python310\\site-packages\\pennylane\\operation.py:1945: UserWarning: Tensor object acts on overlapping wires; in some PennyLane functions this will lead to undefined behaviour\n",
      "  warnings.warn(\n",
      "C:\\Users\\HP\\AppData\\Roaming\\Python\\Python310\\site-packages\\pennylane\\operation.py:2141: UserWarning: Tensor object acts on overlapping wires; in some PennyLane functions this will lead to undefined behaviour\n",
      "  warnings.warn(\n"
     ]
    }
   ],
   "source": [
    "params = [0.5, 0.2]\n",
    "result = parameterized_circuit(params)\n",
    "print(result)\n"
   ]
  },
  {
   "cell_type": "markdown",
   "id": "dafe1c42",
   "metadata": {},
   "source": [
    "Cell below will initialize the parameters of the parameterized_circuit and compute the the returned value of the function.\n",
    "one can notice ,due to the random initialization, the mentioned value will be differernt during each cell run.\n"
   ]
  },
  {
   "cell_type": "code",
   "execution_count": 160,
   "id": "92b2ae11",
   "metadata": {},
   "outputs": [
    {
     "data": {
      "text/plain": [
       "tensor(0.96421619, requires_grad=True)"
      ]
     },
     "execution_count": 160,
     "metadata": {},
     "output_type": "execute_result"
    }
   ],
   "source": [
    "params = np.random.rand(3)\n",
    "parameterized_circuit(params)\n"
   ]
  }
 ],
 "metadata": {
  "kernelspec": {
   "display_name": "Python 3",
   "language": "python",
   "name": "python3"
  },
  "language_info": {
   "codemirror_mode": {
    "name": "ipython",
    "version": 3
   },
   "file_extension": ".py",
   "mimetype": "text/x-python",
   "name": "python",
   "nbconvert_exporter": "python",
   "pygments_lexer": "ipython3",
   "version": "3.10.0"
  }
 },
 "nbformat": 4,
 "nbformat_minor": 5
}
