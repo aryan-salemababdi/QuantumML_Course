{
 "cells": [
  {
   "cell_type": "markdown",
   "id": "bddef487",
   "metadata": {},
   "source": [
    "# Aryan Salemabadi\n",
    "# Quantum Circuits\n",
    "For your first graded code you should enter a code to create \n",
    "$$\\frac{1}{{\\sqrt{2}}} (|000\\rangle - |101\\rangle)$$ \n",
    "\n",
    "For Your second graded code, you should modify return value of circuit() function in order to evaluate expectation value of the first two qubits using PauliZ operator\n"
   ]
  },
  {
   "cell_type": "code",
   "execution_count": 9,
   "id": "346361b0",
   "metadata": {},
   "outputs": [],
   "source": [
    "import pennylane as qml\n",
    "from pennylane import numpy as np\n",
    "import matplotlib.pyplot as plt"
   ]
  },
  {
   "cell_type": "code",
   "execution_count": 10,
   "id": "b02a92f9",
   "metadata": {},
   "outputs": [],
   "source": [
    "dev=qml.device(\"default.qubit\",wires=3)\n",
    "@qml.qnode(dev)\n",
    "def circuit():\n",
    " qml.Hadamard(wires=0)\n",
    " qml.CNOT(wires=[0,1])\n",
    " return qml.expval(qml.PauliZ(0)),qml.expval(qml.PauliZ(1))\n",
    "\n",
    "\n"
   ]
  },
  {
   "cell_type": "code",
   "execution_count": 11,
   "id": "5cd9a0c8",
   "metadata": {},
   "outputs": [
    {
     "name": "stdout",
     "output_type": "stream",
     "text": [
      "(tensor(0., requires_grad=True), tensor(0., requires_grad=True))\n"
     ]
    }
   ],
   "source": [
    "result=circuit()\n",
    "print(result)"
   ]
  },
  {
   "cell_type": "markdown",
   "id": "ea062228",
   "metadata": {},
   "source": [
    "# Parameterized Gates\n",
    "In this phase of your assignment, you should apply single qubit (Z,Y) rotations to one qubit in order and evaluate the returned values of the defined quantum node\n",
    "\n",
    "HINT:\n",
    "\n",
    "1) Please consider the order (Z,Y)             \n",
    "2) Try to parameterize your Gates using {params[i] for ith parameter}\n",
    "\n",
    "\n",
    "\n",
    "\n",
    "For your fourth and last graded code in this assignment, you should modify the return value pf parameterized_circuit(params) in order to evaluate the tensor product of observables $Z\\otimes Y \\otimes X$\n",
    "\n",
    "HINT:\n",
    "1) use this pattern as we talked in the class { qml.expval(PauliZ(...) @ ...) }"
   ]
  },
  {
   "cell_type": "code",
   "execution_count": 12,
   "id": "1c31e0ed",
   "metadata": {},
   "outputs": [],
   "source": [
    "dev2=qml.device(\"default.qubit\", wires=1)\n",
    "@qml.qnode(dev2)\n",
    "def parameterized_circuit(params):\n",
    " qml.RZ(params[0],wires=0)\n",
    " qml.RX(params[1],wires=0)\n",
    " return qml.expval(qml.PauliZ(0)@qml.PauliY(0)@qml.PauliX(0))"
   ]
  },
  {
   "cell_type": "code",
   "execution_count": 13,
   "id": "d85bb5e5",
   "metadata": {},
   "outputs": [
    {
     "name": "stdout",
     "output_type": "stream",
     "text": [
      "0.9800665778412411\n"
     ]
    }
   ],
   "source": [
    "params = [0.5,0.2]\n",
    "result = parameterized_circuit(params)\n",
    "print(result)"
   ]
  },
  {
   "cell_type": "markdown",
   "id": "dafe1c42",
   "metadata": {},
   "source": [
    "Cell below will initialize the parameters of the  parameterized_circuit and compute the the returned value of the function.\n",
    "one can notice ,due to the random initialization, the mentioned value will be differernt during each cell run. "
   ]
  },
  {
   "cell_type": "code",
   "execution_count": 14,
   "id": "92b2ae11",
   "metadata": {},
   "outputs": [
    {
     "data": {
      "text/plain": [
       "tensor(0.95855835, requires_grad=True)"
      ]
     },
     "execution_count": 14,
     "metadata": {},
     "output_type": "execute_result"
    }
   ],
   "source": [
    "params=np.random.rand(3)\n",
    "parameterized_circuit(params)"
   ]
  }
 ],
 "metadata": {
  "kernelspec": {
   "display_name": "Python 3",
   "language": "python",
   "name": "python3"
  },
  "language_info": {
   "codemirror_mode": {
    "name": "ipython",
    "version": 3
   },
   "file_extension": ".py",
   "mimetype": "text/x-python",
   "name": "python",
   "nbconvert_exporter": "python",
   "pygments_lexer": "ipython3",
   "version": "3.10.0"
  }
 },
 "nbformat": 4,
 "nbformat_minor": 5
}
