{
 "cells": [
  {
   "cell_type": "markdown",
   "id": "ed35308b",
   "metadata": {},
   "source": [
    "# Data Embedding\n",
    "\n",
    "1) Basic Embedding"
   ]
  },
  {
   "cell_type": "code",
   "execution_count": 150,
   "id": "6b44a2e8",
   "metadata": {},
   "outputs": [],
   "source": [
    "import pennylane as qml\n",
    "from pennylane import numpy as np"
   ]
  },
  {
   "cell_type": "markdown",
   "id": "9fd38093",
   "metadata": {},
   "source": [
    "For your first graded assignment, call proper embedding template"
   ]
  },
  {
   "cell_type": "code",
   "execution_count": 151,
   "id": "23a61c7a",
   "metadata": {},
   "outputs": [],
   "source": [
    "dev = qml.device('default.qubit', wires=4)\n",
    "\n",
    "@qml.qnode(dev)\n",
    "def circuit(feature_vector):\n",
    "    qml.BasisEmbedding(features=feature_vector,wires=range(4))\n",
    "    \n",
    "    return qml.state()\n"
   ]
  },
  {
   "cell_type": "markdown",
   "id": "cc52ce33",
   "metadata": {},
   "source": [
    "Define vector X in order to encode binary $1010$ to quantum state $|1010\\rangle$"
   ]
  },
  {
   "cell_type": "code",
   "execution_count": 152,
   "id": "e63731c4",
   "metadata": {},
   "outputs": [],
   "source": [
    "# enter your code here (Second graded code)\n",
    "X=[1,0,1,0]"
   ]
  },
  {
   "cell_type": "code",
   "execution_count": 153,
   "id": "bcf93ae7",
   "metadata": {},
   "outputs": [
    {
     "name": "stdout",
     "output_type": "stream",
     "text": [
      "[0.+0.j 0.+0.j 0.+0.j 0.+0.j 0.+0.j 0.+0.j 0.+0.j 0.+0.j 0.+0.j 0.+0.j\n",
      " 1.+0.j 0.+0.j 0.+0.j 0.+0.j 0.+0.j 0.+0.j]\n"
     ]
    }
   ],
   "source": [
    "print(circuit(X))"
   ]
  },
  {
   "cell_type": "markdown",
   "id": "8ca244be",
   "metadata": {},
   "source": [
    "\n",
    "\n",
    "\n",
    "\n",
    "2) Angle Embedding\n",
    "\n",
    "\n",
    "Call proper embedding template in the quantum node below, use rotation='Y' to encode vector [0.83,0.24,0.35]"
   ]
  },
  {
   "cell_type": "code",
   "execution_count": 154,
   "id": "58a63980",
   "metadata": {},
   "outputs": [],
   "source": [
    "dev2 = qml.device('default.qubit', wires=3)\n",
    "\n",
    "@qml.qnode(dev2)\n",
    "def circuit2(feature_vector):\n",
    "    qml.AngleEmbedding(features=feature_vector,wires=range(3),rotation='Y')\n",
    "    \n",
    "    \n",
    "    \n",
    "    \n",
    "    qml.Hadamard(0)\n",
    "    return qml.probs(wires=range(3))\n",
    "\n"
   ]
  },
  {
   "cell_type": "code",
   "execution_count": 155,
   "id": "e9ee8b58",
   "metadata": {},
   "outputs": [],
   "source": [
    "Y=[0.83,0.24,0.35]"
   ]
  },
  {
   "cell_type": "code",
   "execution_count": 156,
   "id": "869ea42c",
   "metadata": {},
   "outputs": [
    {
     "name": "stdout",
     "output_type": "stream",
     "text": [
      "0: ──RY(0.83)──H─┤ ╭Probs\n",
      "1: ──RY(0.24)────┤ ├Probs\n",
      "2: ──RY(0.35)────┤ ╰Probs\n"
     ]
    }
   ],
   "source": [
    "print(qml.draw(circuit2, expansion_strategy=\"device\")(Y))"
   ]
  },
  {
   "cell_type": "markdown",
   "id": "eda04137",
   "metadata": {},
   "source": [
    "\n",
    "3) Amplitude Embedding\n",
    "\n",
    "\n",
    "Modify the following quantum node in order to solve the upcoming error. then enter the modified code line as Fourth graded code\n",
    "\n",
    "\n",
    "HINT   :   First run the code cells to confront the error, then try to solve it "
   ]
  },
  {
   "cell_type": "code",
   "execution_count": 218,
   "id": "edb7b8d8",
   "metadata": {},
   "outputs": [],
   "source": [
    "dev3 = qml.device('default.qubit', wires=2)\n",
    "\n",
    "@qml.qnode(dev3)\n",
    "def circuit4(feature_vector):\n",
    "    qml.AmplitudeEmbedding(features=feature_vector,wires=range(2),normalize=True)\n",
    "    return qml.expval(qml.PauliZ(0))\n",
    "\n"
   ]
  },
  {
   "cell_type": "code",
   "execution_count": 207,
   "id": "aa5c1ebc",
   "metadata": {},
   "outputs": [],
   "source": [
    "Z=[0.24,0.72,0.06,0]"
   ]
  },
  {
   "cell_type": "code",
   "execution_count": 217,
   "id": "b61197e9",
   "metadata": {},
   "outputs": [
    {
     "data": {
      "text/plain": [
       "tensor([0.31524416+0.j, 0.94573249+0.j, 0.07881104+0.j, 0.        +0.j], requires_grad=True)"
      ]
     },
     "execution_count": 217,
     "metadata": {},
     "output_type": "execute_result"
    }
   ],
   "source": [
    "circuit4(Z)\n",
    "dev3.state"
   ]
  },
  {
   "cell_type": "markdown",
   "id": "07f1ee97",
   "metadata": {},
   "source": [
    "For your fifth graded code, write a code to see if you were successful to encode the mentioned vector into amplitudes"
   ]
  },
  {
   "cell_type": "code",
   "execution_count": 196,
   "id": "5e0157d2",
   "metadata": {},
   "outputs": [
    {
     "name": "stdout",
     "output_type": "stream",
     "text": [
      "Encoding not successful. Amplitudes do not match.\n"
     ]
    }
   ],
   "source": [
    "if np.isclose(circuit4(Z),Z[2]):\n",
    "    print(\"Encoding successful! Amplitudes match.\")\n",
    "else:\n",
    "    print(\"Encoding not successful. Amplitudes do not match.\")"
   ]
  }
 ],
 "metadata": {
  "kernelspec": {
   "display_name": "Python 3",
   "language": "python",
   "name": "python3"
  },
  "language_info": {
   "codemirror_mode": {
    "name": "ipython",
    "version": 3
   },
   "file_extension": ".py",
   "mimetype": "text/x-python",
   "name": "python",
   "nbconvert_exporter": "python",
   "pygments_lexer": "ipython3",
   "version": "3.10.0"
  }
 },
 "nbformat": 4,
 "nbformat_minor": 5
}
