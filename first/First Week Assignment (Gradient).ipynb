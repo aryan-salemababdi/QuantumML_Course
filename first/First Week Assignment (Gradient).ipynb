{
 "cells": [
  {
   "cell_type": "markdown",
   "id": "6597c197",
   "metadata": {},
   "source": [
    "# Gradient\n",
    "\n",
    "\n",
    "In this assignment, we are going to evaluate gradients of the special circuits with the respect to differentiable parameter"
   ]
  },
  {
   "cell_type": "code",
   "execution_count": 15,
   "id": "1650715e",
   "metadata": {},
   "outputs": [],
   "source": [
    "import pennylane as qml\n",
    "from pennylane import numpy as np"
   ]
  },
  {
   "cell_type": "markdown",
   "id": "9ce49c3a",
   "metadata": {},
   "source": [
    "In the code cell below, the quantum node is parameterized with {params} "
   ]
  },
  {
   "cell_type": "code",
   "execution_count": 16,
   "id": "792ec8fa",
   "metadata": {},
   "outputs": [],
   "source": [
    "dev = qml.device('default.qubit', wires=2)\n",
    "\n",
    "@qml.qnode(dev)\n",
    "def circuit(params):\n",
    "    qml.RX(params[0], wires=0)\n",
    "    qml.RY(params[1], wires=1)\n",
    "    qml.CNOT(wires=[0, 1])\n",
    "    qml.PhaseShift(params[2], wires=0)\n",
    "    return qml.expval(qml.PauliZ(0))"
   ]
  },
  {
   "cell_type": "markdown",
   "id": "f0beb56c",
   "metadata": {},
   "source": [
    "For your first and second graded code you should write a code to evalute gradient with the respect to {params} \n",
    "\n",
    "\n",
    "First you should initialize your params and specify them as differentiable parameter \n",
    "\n",
    "use {np.random.rand and requires_grad}, then use {qml.grad} to calculate gradient"
   ]
  },
  {
   "cell_type": "code",
   "execution_count": 1,
   "id": "bcd84231",
   "metadata": {},
   "outputs": [],
   "source": [
    "params= # enter your code here (First graded code)\n",
    "dcircuit= # enter your code here (Second graded code)\n",
    "dcircuit(params)"
   ]
  },
  {
   "cell_type": "markdown",
   "id": "06947b83",
   "metadata": {},
   "source": [
    "In the code cell below, the quantum node is parameterized with {phi,theta}"
   ]
  },
  {
   "cell_type": "code",
   "execution_count": 27,
   "id": "92eb4660",
   "metadata": {},
   "outputs": [],
   "source": [
    "dev2 = qml.device('default.qubit', wires=2)\n",
    "\n",
    "@qml.qnode(dev2)\n",
    "def circuit2(phi, theta):\n",
    "    qml.RX(phi[0], wires=0)\n",
    "    qml.RY(phi[1], wires=1)\n",
    "    qml.CNOT(wires=[0, 1])\n",
    "    qml.PhaseShift(theta, wires=0)\n",
    "    return qml.expval(qml.PauliZ(0))"
   ]
  },
  {
   "cell_type": "markdown",
   "id": "ed09fa13",
   "metadata": {},
   "source": [
    "Now, you should write a code to evalute gradient with the respect to both {phi,theta}\n",
    "\n",
    "First you should initialize your params and specify them as differentiable parameter\n",
    "\n",
    "use {requires_grad} (HINT:initial value for phi and theta are as follows)\n",
    "\n",
    "\n",
    "\n",
    "phi = [0.5,0.1]\n",
    "\n",
    "\n",
    "\n",
    "theta=[0.2]\n",
    "\n",
    "\n",
    "\n",
    "\n",
    "then use {qml.grad} to calculate gradient"
   ]
  },
  {
   "cell_type": "code",
   "execution_count": 24,
   "id": "8238c140",
   "metadata": {},
   "outputs": [],
   "source": [
    "# enter your code here \n",
    "phi= # (Third graded code)\n",
    "theta= # (Fourth graded)\n",
    "dcircuit= # (Fifth graded code)"
   ]
  },
  {
   "cell_type": "code",
   "execution_count": 2,
   "id": "7e06147c",
   "metadata": {},
   "outputs": [],
   "source": [
    "dcircuit(phi,theta)"
   ]
  },
  {
   "cell_type": "markdown",
   "id": "1cf5186d",
   "metadata": {},
   "source": [
    "Please pay attention to code cells below "
   ]
  },
  {
   "cell_type": "code",
   "execution_count": 13,
   "id": "c0c213e4",
   "metadata": {},
   "outputs": [],
   "source": [
    "dev3 = qml.device('default.qubit', wires=2)\n",
    "\n",
    "@qml.qnode(dev3)\n",
    "def circuit3(params):\n",
    "    qml.Hadamard(wires=0)\n",
    "    qml.CNOT(wires=[0, 1])\n",
    "    qml.RX(params[0], wires=0)\n",
    "    qml.RY(params[1], wires=1)\n",
    "    qml.CNOT(wires=[0, 1])\n",
    "    return qml.expval(qml.PauliY(0)), qml.expval(qml.PauliZ(1))"
   ]
  },
  {
   "cell_type": "code",
   "execution_count": 14,
   "id": "645ccc33",
   "metadata": {},
   "outputs": [
    {
     "data": {
      "text/plain": [
       "array([[-0.05723617, -0.12775281,  0.        ],\n",
       "       [-0.12775281, -0.05723617,  0.        ]])"
      ]
     },
     "execution_count": 14,
     "metadata": {},
     "output_type": "execute_result"
    }
   ],
   "source": [
    "j1 =qml.jacobian(lambda x: np.stack(circuit3(x)))\n",
    "j1(params)"
   ]
  }
 ],
 "metadata": {
  "kernelspec": {
   "display_name": "Python 3",
   "language": "python",
   "name": "python3"
  },
  "language_info": {
   "codemirror_mode": {
    "name": "ipython",
    "version": 3
   },
   "file_extension": ".py",
   "mimetype": "text/x-python",
   "name": "python",
   "nbconvert_exporter": "python",
   "pygments_lexer": "ipython3",
   "version": "3.8.8"
  }
 },
 "nbformat": 4,
 "nbformat_minor": 5
}
